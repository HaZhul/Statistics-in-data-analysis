{
 "cells": [
  {
   "cell_type": "markdown",
   "metadata": {},
   "source": [
    "## Laboratorium 6\n",
    "\n",
    "### Zbiór danych\n",
    "\n",
    "Zbiór danych znajduje się w katalogu `dataset/*`. Jest to zmodyfikowany zbiór danych znajdujący się pod adresem: <https://archive.ics.uci.edu/ml/datasets/leaf>.\n",
    "\n",
    "### Przesyłanie zadań\n",
    "\n",
    "Wszystkie pliki należy spakować archiwizatorem **zip** i przesłać za pośrednictwem platformy WIKAMP. Poniżej oczekiwana zawartość archiwum:\n",
    "\n",
    "```\n",
    "+-- 📂 [IMIE.NAZWISKO].zip\n",
    "    +-- 📜 Lab[xx].ipynb\n",
    "    +-- 📂 dataset\n",
    "        +-- 📜 dataset.npz\n",
    "        +-- 📜 ReadMe.pdf\n",
    "```\n",
    "\n",
    "\n",
    "\n",
    "### Zadanie 1\n",
    "\n",
    "* Wybierz 10 pierwszych gatunków liści (będziesz je używać w kolejnych zadaniach), o identyfikatorach: 1, 2, 3, 4, 5, 6, 7, 8, 9, 10.\n",
    "* Znormalizuj dane w zakresie 0-1.\n",
    "* Zgodnie z wynikami uzyskanymi w poprzednim laboratorium wybierz $n$ najlepszych cech.\n",
    "* Wykonaj klasyfikację za pomocą algorytmu najbliższej średniej (dowolnego wariantu, ale korzystaj z tego samego w kolejnym zadaniu) i wyświetl dokładność klasyfikacji.\n",
    "\n",
    "### Zadanie 2\n",
    "* Przeprowadź klasteryzację zbioru za pomocą algorytmu [$k$-średnich](https://scikit-learn.org/stable/modules/generated/sklearn.cluster.KMeans.html).\n",
    "* Korzystając z metody łokcia, wybierz liczbę klastrów ($c$).\n",
    "* Podziel zbiór na $c$ klastrów (utwórz także mapowanie nowych etykiet na stare, np. za pomocą słownika)\n",
    "* Wykonaj klasyfikację za pomocą algorytmu najbliższej średniej.\n",
    "* Porównaj wynik z poprzednim zadaniem (powinien się poprawic) i wyświetl dokładność klasyfikacji.\n",
    "\n",
    "\n"
   ]
  },
  {
   "cell_type": "code",
   "execution_count": 1,
   "metadata": {},
   "outputs": [],
   "source": [
    "import numpy as np\n",
    "\n",
    "\n",
    "with open('./dataset/dataset.npz', 'rb') as f:\n",
    "    data = np.load(f)\n",
    "    train, test = data['train'], data['test']"
   ]
  },
  {
   "cell_type": "code",
   "execution_count": 28,
   "metadata": {},
   "outputs": [],
   "source": [
    "from sklearn.preprocessing import MinMaxScaler\n",
    "scaler = MinMaxScaler()\n",
    "\n",
    "classes = np.arange(1, 11)\n",
    "X_train = train[np.isin(train[:, 0], classes)]\n",
    "X_test = test[np.isin(test[:, 0], classes)]\n",
    "\n",
    "y_train = X_train[:,0]\n",
    "y_test = X_test[:,0]\n",
    "X_train = scaler.fit_transform(X_train[:,2:])\n",
    "X_test = scaler.transform(X_test[:,2:])\n"
   ]
  },
  {
   "cell_type": "code",
   "execution_count": 30,
   "metadata": {},
   "outputs": [
    {
     "name": "stdout",
     "output_type": "stream",
     "text": [
      "NM accuracy: 0.7756286266924565\n"
     ]
    }
   ],
   "source": [
    "from sklearn.neighbors import NearestCentroid\n",
    "from sklearn.feature_selection import SelectKBest\n",
    "from sklearn.metrics import accuracy_score\n",
    "\n",
    "selector = SelectKBest(k=6)\n",
    "selector.fit_transform(X_train, y_train)\n",
    "\n",
    "X_train = selector.transform(X_train)\n",
    "X_test = selector.transform(X_test)\n",
    "\n",
    "neigh = NearestCentroid()\n",
    "neigh.fit(X_train, y_train)\n",
    "y_pred_nm = neigh.predict(X_test)\n",
    "\n",
    "accuracy_nm = accuracy_score(y_test, y_pred_nm)\n",
    "print(f'NM accuracy: {accuracy_nm}')"
   ]
  },
  {
   "cell_type": "code",
   "execution_count": 45,
   "metadata": {},
   "outputs": [
    {
     "data": {
      "image/png": "[encoded data removed]",
      "text/plain": [
       "<Figure size 640x480 with 1 Axes>"
      ]
     },
     "metadata": {},
     "output_type": "display_data"
    }
   ],
   "source": [
    "from sklearn.cluster import KMeans\n",
    "import matplotlib.pyplot as plt\n",
    "import warnings\n",
    "warnings.filterwarnings('ignore')\n",
    "\n",
    "i_list = range(10,100)\n",
    "inertia_list = []\n",
    "\n",
    "for i in i_list:\n",
    "    kmeans = KMeans(n_clusters=i, n_init='auto', random_state=0)\n",
    "    kmeans.fit(X_train, y_train)\n",
    "    inertia = kmeans.inertia_\n",
    "    inertia_list.append(inertia)\n",
    "\n",
    "\n",
    "plt.plot(i_list, inertia_list)\n",
    "plt.xlabel('Clusters')\n",
    "plt.ylabel('Inertia')\n",
    "plt.show()\n",
    "# Ok. 50"
   ]
  },
  {
   "cell_type": "code",
   "execution_count": 47,
   "metadata": {},
   "outputs": [
    {
     "name": "stdout",
     "output_type": "stream",
     "text": [
      "KMeans accuracy: 0.7504835589941973\n"
     ]
    }
   ],
   "source": [
    "K = 50\n",
    "\n",
    "kmeans2 = KMeans(n_clusters=K, random_state=0, n_init=\"auto\").fit(X_train)\n",
    "kmeans2.fit(X_train, y_train)\n",
    "y_new = kmeans2.labels_\n",
    "y_pred = kmeans2.predict(X_test)\n",
    "\n",
    "new_y_dict = dict(zip(y_new, y_train))\n",
    "\n",
    "y_pred_mapped = [new_y_dict[i] for i in y_pred]\n",
    "accuracy = accuracy_score(y_pred_mapped, y_test)\n",
    "print(f'KMeans accuracy: {accuracy}')"
   ]
  }
 ],
 "metadata": {
  "author": {
   "emails": [
    "rsusik@kis.p.lodz.pl"
   ],
   "name": "Robert Susik"
  },
  "kernelspec": {
   "display_name": "Python 3 (ipykernel)",
   "language": "python",
   "name": "python3"
  },
  "language_info": {
   "codemirror_mode": {
    "name": "ipython",
    "version": 3
   },
   "file_extension": ".py",
   "mimetype": "text/x-python",
   "name": "python",
   "nbconvert_exporter": "python",
   "pygments_lexer": "ipython3",
   "version": "3.11.8"
  },
  "toc": {
   "base_numbering": 1,
   "nav_menu": {},
   "number_sections": true,
   "sideBar": true,
   "skip_h1_title": false,
   "title_cell": "Table of Contents",
   "title_sidebar": "Contents",
   "toc_cell": false,
   "toc_position": {},
   "toc_section_display": true,
   "toc_window_display": true
  }
 },
 "nbformat": 4,
 "nbformat_minor": 4
}
