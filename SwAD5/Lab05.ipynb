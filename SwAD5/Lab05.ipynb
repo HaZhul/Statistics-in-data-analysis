{
 "cells": [
  {
   "cell_type": "markdown",
   "id": "bedecc37",
   "metadata": {},
   "source": [
    "## Laboratorium 5 - algorytm Najbliższej Średniej (NM)\n",
    "\n",
    "\n",
    "### Opis\n",
    "Celem laboratorium jest implementacja klasyfikatora najbliższej średniej NM (*Nearest Mean*).\n",
    "\n",
    "\n",
    "### Zadanie\n",
    "\n",
    "Należy wykonać następujące czynności w celu realizacji niniejszego zadania:\n",
    "* Wczytaj dane.\n",
    "* **Zaimplementuj klasyfikator najbliższej średniej (NM) z zastosowaniem odległości Euklidesa**.\n",
    "* Zaimplementuj funkcję, która zwraca macierz kowariancji (*uwaga: biblioteka `numpy` posiada gotową implementację `cov` z którą możesz porównać wynik*).\n",
    "\n",
    "    \\begin{equation*}\n",
    "    C = \\frac{1}{n - 1} (X - \\bar X)(X - \\bar X)^T\n",
    "    \\end{equation*}\n",
    "\n",
    "    gdzie:\n",
    "    * $X$ to macierz, \n",
    "    * $\\bar X$ to wektor ze średnimi wartościami cech. \n",
    "\n",
    "* **Zaimplementuj klasyfikator najbliższej średniej (NM) z zastosowaniem odległości Machalanobisa**.\n",
    "\n",
    "    \\begin{equation*}\n",
    "    D_j = \\sqrt{ (x - \\mu_j)^T S_j^{-1}(x - \\mu_j) },\n",
    "    \\end{equation*}\n",
    "\n",
    "    gdzie:\n",
    "    * $D_j$ to odległość klasyfikowanej próbki do $j$-tej klasy (grupy, klastra), \n",
    "    * $\\mu_j$ to wektor ze średnimi wartościami cech w obrębie $j$-tej klasy, \n",
    "    * $S_j^{-1}$ to odwrócona macierz kowariancji $j$-tej klasy, \n",
    "    * a $x$ to klasyfikowana próbka.\n",
    "\n",
    "* Opisz wyniki klasyfikatorów i porównaj je z klasyfikatorem *k*NN. Wyswietl tablice pomylek.\n",
    "\n",
    "> Podpowiedź 1: Do obliczenia macierzy odwrotnej możesz użyć gotową implementację, np. funkcję `linalg.inv` z biblioteki `numpy`.\n",
    "\n",
    "> Podpowiedź 2: Do wszelkich podstawowych operacji na macierzach (mnożenie, transpozycja, dodawanie, odejmowanie, itp.) możesz zastosować gotową implementację, np. bibliotekę `numpy`.\n",
    "\n",
    "> UWAGA 1: W niniejszym zadaniu jest dowolność implementacji (nie trzeba trzymać się struktury z poprzedniego zadania), jednak algorytm NM należy zaimplementować samodzielnie bez korzystania z istniających rozwiązań (jak np. z biblioteki `scikit-learn`).\n",
    "\n",
    "> UWAGA 2: Wszystkie wykonane elementy zadania powinny posiadać stosowne komentarze i opisy.\n",
    "\n",
    "\n",
    "**Pamiętaj, wyniki powinny być czytelnie opisane oraz zaprezentowane graficznie (jeżeli jest taka możliwość).**\n",
    "\n",
    "\n",
    "<span style=\"text-decoration:underline\">Referencje</span>\n",
    "\n",
    "1. Mahalanobis, P C, _On test and measures of group divergence : theoretical formulae_, Journal and Proceedings of Asiatic Society of Bengal (New Series) Vol. 26, pp. 541-588. 1930. (URL: http://library.isical.ac.in:8080/xmlui/bitstream/handle/10263/1639/029.pdf)\n",
    "2. McLachlan, Goeffrey J. _Mahalanobis distance_, Resonance, pp. 20-26. 1999. (URL: https://www.ias.ac.in/article/fulltext/reso/004/06/0020-0026)"
   ]
  },
  {
   "cell_type": "code",
   "execution_count": null,
   "id": "23a7414c",
   "metadata": {},
   "outputs": [],
   "source": [
    "# <UZUPEŁNIJ>"
   ]
  }
 ],
 "metadata": {
  "author": {
   "email": "robert.susik@p.lodz.pl",
   "name": "Robert Susik"
  },
  "kernelspec": {
   "display_name": "Python 3 (ipykernel)",
   "language": "python",
   "name": "python3"
  },
  "language_info": {
   "codemirror_mode": {
    "name": "ipython",
    "version": 3
   },
   "file_extension": ".py",
   "mimetype": "text/x-python",
   "name": "python",
   "nbconvert_exporter": "python",
   "pygments_lexer": "ipython3",
   "version": "3.10.13"
  },
  "toc": {
   "base_numbering": 1,
   "nav_menu": {},
   "number_sections": true,
   "sideBar": true,
   "skip_h1_title": false,
   "title_cell": "Table of Contents",
   "title_sidebar": "Contents",
   "toc_cell": false,
   "toc_position": {},
   "toc_section_display": true,
   "toc_window_display": false
  }
 },
 "nbformat": 4,
 "nbformat_minor": 5
}
