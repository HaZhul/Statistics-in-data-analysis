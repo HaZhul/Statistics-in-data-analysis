{
 "cells": [
  {
   "cell_type": "markdown",
   "metadata": {},
   "source": [
    "## Laboratorium 3\n",
    "\n",
    "### Opis\n",
    "Celem laboratorium jest klasyfikacja liści za pomocą metody *k* najbliższych sąsiadów - *k*NN (*k Nearest Neighbors*) z wykorzystaniem normalizacji.\n",
    "\n",
    "\n",
    "### Zbiór danych\n",
    "\n",
    "Zbiór danych znajduje się w katalogu `dataset/*`. Jest to zmodyfikowany zbiór danych znajdujący się pod adresem: <https://archive.ics.uci.edu/ml/datasets/leaf>.\n",
    "\n",
    "### Przesyłanie zadań\n",
    "\n",
    "Wszystkie pliki należy spakować archiwizatorem **zip** i przesłać za pośrednictwem platformy WIKAMP. Poniżej oczekiwana zawartość archiwum:\n",
    "\n",
    "```\n",
    "+-- 📂 [IMIE.NAZWISKO].zip\n",
    "    +-- 📜 Lab03.ipynb\n",
    "    +-- 📂 dataset\n",
    "        +-- 📜 dataset.npz\n",
    "        +-- 📜 ReadMe.pdf\n",
    "```\n",
    "\n",
    "\n",
    "\n",
    "### Zadanie 1\n",
    "\n",
    "* Wybierz 10 dowolnych gatunków liści (będziesz je używać w kolejnych zadaniach).\n",
    "* Przeprowadź klasyfikację za pomocą klasyfikatora [*k*NN](https://scikit-learn.org/stable/modules/generated/sklearn.neighbors.KNeighborsClassifier.html).\n",
    "* Znajdź optymalne *k*.\n",
    "* Wyświetl najwyższy wynik klasyfikacji (*accuracy*).\n"
   ]
  },
  {
   "cell_type": "code",
   "execution_count": 60,
   "metadata": {},
   "outputs": [],
   "source": [
    "import pandas as pd\n",
    "import numpy as np\n",
    "import matplotlib.pyplot as plt\n",
    "\n",
    "from sklearn.neighbors import KNeighborsClassifier\n",
    "from sklearn.preprocessing import MinMaxScaler\n",
    "from sklearn.metrics import accuracy_score"
   ]
  },
  {
   "cell_type": "code",
   "execution_count": 67,
   "metadata": {},
   "outputs": [
    {
     "name": "stdout",
     "output_type": "stream",
     "text": [
      "[0.39093    0.93671    0.8375     ... 0.97253864 0.86998833 0.85429293]\n",
      "\n",
      "Optymalne k: 8 dla dokladnosci: 0.7540106951871658\n"
     ]
    }
   ],
   "source": [
    "with open('./dataset/dataset.npz', 'rb') as f:\n",
    "    data = np.load(f)\n",
    "    train, test = data['train'], data['test']\n",
    "chosen_classes = [3, 4, 5, 6, 7, 8, 9, 10, 11, 12]\n",
    "train_1 = train[np.isin(train[:, 0], chosen_classes)]\n",
    "test_1 = test[np.isin(test[:, 0], chosen_classes)]\n",
    "\n",
    "# features = [2, 3, 4, 5, 6, 7]\n",
    "# train_1_x = train_1[:, features]\n",
    "train_1_x = train_1[:, 2:]\n",
    "train_1_y = train_1[:, 0]\n",
    "# test_1_x = test_1[:, features]\n",
    "test_1_x = test_1[:, 2:]\n",
    "test_1_y = test_1[:, 0]\n",
    "\n",
    "\n",
    "k = 0\n",
    "accuracy_max = 0\n",
    "\n",
    "for i in range(1, 50):\n",
    "    neigh = KNeighborsClassifier(n_neighbors=i)\n",
    "    neigh.fit(train_1_x, train_1_y)\n",
    "    y_pred = neigh.predict(test_1_x)\n",
    "    accuracy = accuracy_score(test_1_y, y_pred)\n",
    "    # print(accuracy)\n",
    "    if accuracy > accuracy_max:\n",
    "        accuracy_max = accuracy\n",
    "        k = i\n",
    "\n",
    "print(f'\\nOptymalne k: {k} dla dokladnosci: {accuracy_max}')"
   ]
  },
  {
   "cell_type": "markdown",
   "metadata": {},
   "source": [
    "### Zadanie 2\n",
    "* Znormalizuj dane w zakresie 0-1. Możesz do tego celu wykorzystać gotową funkcję z biblioteki scikit-learn https://scikit-learn.org/stable/modules/generated/sklearn.preprocessing.MinMaxScaler.html.\n",
    ">    **Ważne: współczynniki powinny być obliczone na zbiorze treningowym i te same powinny zostać zastosowane do normalizacji zbioru testowego.**\n",
    "* Ponownie wykonaj klasyfikację z tymi samymi parametrami (co w zadaniu 1), ale na danych znormalizowanych.\n",
    "* Wyświetl najwyższy wynik klasyfikacji (*accuracy*).\n"
   ]
  },
  {
   "cell_type": "code",
   "execution_count": 62,
   "metadata": {},
   "outputs": [
    {
     "name": "stdout",
     "output_type": "stream",
     "text": [
      "\n",
      "Optymalne k: 31 dla dokladnosci: 0.8449197860962567\n"
     ]
    }
   ],
   "source": [
    "scaler = MinMaxScaler()\n",
    "scaler2 = MinMaxScaler()\n",
    "\n",
    "train_2_x = scaler.fit_transform(train_1_x)\n",
    "test_2_x = scaler.transform(test_1_x)\n",
    "\n",
    "k_2 = 0\n",
    "accuracy_max_2 = 0\n",
    "\n",
    "for i in range(1, 50):\n",
    "    neigh_2 = KNeighborsClassifier(n_neighbors=i)\n",
    "    neigh_2.fit(train_2_x, train_1_y)\n",
    "    y_pred_2 = neigh_2.predict(test_2_x)\n",
    "    accuracy_2 = accuracy_score(test_1_y, y_pred_2)\n",
    "    # print(y_pred == test_1_y)\n",
    "    if accuracy_2 > accuracy_max_2:\n",
    "        accuracy_max_2 = accuracy_2\n",
    "        k_2 = i\n",
    "\n",
    "print(f'\\nOptymalne k: {k_2} dla dokladnosci: {accuracy_max_2}')"
   ]
  },
  {
   "cell_type": "markdown",
   "metadata": {},
   "source": [
    "### Zadanie 3\n",
    "\n",
    "Napisz wnioski"
   ]
  },
  {
   "cell_type": "markdown",
   "metadata": {},
   "source": [
    "### Normalizacja danych, w większości przypadków kombinacji cechami, pozwala uzyskać nieco lepszą dokładność w porównaniu do nieznormalizowanych danych."
   ]
  }
 ],
 "metadata": {
  "author": {
   "emails": [
    "rsusik@kis.p.lodz.pl"
   ],
   "name": "Robert Susik"
  },
  "kernelspec": {
   "display_name": "Python 3 (ipykernel)",
   "language": "python",
   "name": "python3"
  },
  "language_info": {
   "codemirror_mode": {
    "name": "ipython",
    "version": 3
   },
   "file_extension": ".py",
   "mimetype": "text/x-python",
   "name": "python",
   "nbconvert_exporter": "python",
   "pygments_lexer": "ipython3",
   "version": "3.11.8"
  },
  "toc": {
   "base_numbering": 1,
   "nav_menu": {},
   "number_sections": true,
   "sideBar": true,
   "skip_h1_title": false,
   "title_cell": "Table of Contents",
   "title_sidebar": "Contents",
   "toc_cell": false,
   "toc_position": {},
   "toc_section_display": true,
   "toc_window_display": true
  }
 },
 "nbformat": 4,
 "nbformat_minor": 4
}
